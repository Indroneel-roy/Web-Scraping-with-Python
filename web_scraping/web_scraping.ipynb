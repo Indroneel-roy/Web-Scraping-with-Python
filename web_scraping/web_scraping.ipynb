{
  "nbformat": 4,
  "nbformat_minor": 0,
  "metadata": {
    "colab": {
      "provenance": []
    },
    "kernelspec": {
      "name": "python3",
      "display_name": "Python 3"
    },
    "language_info": {
      "name": "python"
    }
  },
  "cells": [
    {
      "cell_type": "code",
      "execution_count": 4,
      "metadata": {
        "id": "E_WCe82TQnV3"
      },
      "outputs": [],
      "source": [
        "import requests\n",
        "from pathlib import Path\n",
        "path = Path('data')\n",
        "path.mkdir(parents=True, exist_ok=True)\n",
        "\n",
        "path_name = \"test.html\"\n",
        "data_path = path / path_name\n",
        "\n",
        "def fetch_and_save_to_file(url, location):\n",
        "  r = requests.get(url)\n",
        "  with open(location, 'w') as f:\n",
        "    f.write(r.text)\n",
        "\n",
        "url = \"https://www.thedailystar.net/sports/cricket/news/rain-washes-out-bangladesh-new-zealand-odi-opener-3424626\"\n",
        "\n",
        "fetch_and_save_to_file(url, data_path)\n",
        "\n"
      ]
    },
    {
      "cell_type": "code",
      "source": [
        "!pip install beautifulsoup4"
      ],
      "metadata": {
        "id": "hyr5fUqyhNFp"
      },
      "execution_count": null,
      "outputs": []
    },
    {
      "cell_type": "code",
      "source": [
        "!pip install lxml"
      ],
      "metadata": {
        "colab": {
          "base_uri": "https://localhost:8080/"
        },
        "id": "g8GImowJhT84",
        "outputId": "1d7e77a5-9487-40d5-b5b4-7705443c1b54"
      },
      "execution_count": null,
      "outputs": [
        {
          "output_type": "stream",
          "name": "stdout",
          "text": [
            "Requirement already satisfied: lxml in /usr/local/lib/python3.10/dist-packages (4.9.3)\n"
          ]
        }
      ]
    },
    {
      "cell_type": "code",
      "source": [
        "from bs4 import BeautifulSoup\n",
        "\n",
        "with open('/content/home.html', 'r') as html_file:\n",
        "  content = html_file.read()\n",
        "\n",
        "  soup = BeautifulSoup(content, 'lxml')\n",
        "  course_html_tags = soup.find_all('h5')\n",
        "  for course in course_html_tags:\n",
        "    print(course.text)\n",
        "\n"
      ],
      "metadata": {
        "colab": {
          "base_uri": "https://localhost:8080/"
        },
        "id": "fSG1tmtJhbSB",
        "outputId": "72d9dea1-3807-4e98-a4f8-d4ffdea0f926"
      },
      "execution_count": null,
      "outputs": [
        {
          "output_type": "stream",
          "name": "stdout",
          "text": [
            "Python for beginners\n",
            "Python Web Development\n",
            "Python Machine Learning\n"
          ]
        }
      ]
    },
    {
      "cell_type": "code",
      "source": [
        "course_card = soup.find_all('div', class_ = 'card')\n",
        "for course in course_card:\n",
        "  course_name = course.h5.text\n",
        "  course_price = course.a.text.split()[-1]\n",
        "\n",
        "  print(f'Course name: {course_name} cost: {course_price}')\n",
        "\n"
      ],
      "metadata": {
        "colab": {
          "base_uri": "https://localhost:8080/"
        },
        "id": "i-h9qVGvwUQk",
        "outputId": "fadbd51c-7b2d-4be8-f217-f13d5efe3fcf"
      },
      "execution_count": null,
      "outputs": [
        {
          "output_type": "stream",
          "name": "stdout",
          "text": [
            "Course name: Python for beginners cost: 20$\n",
            "Course name: Python Web Development cost: 50$\n",
            "Course name: Python Machine Learning cost: 100$\n"
          ]
        }
      ]
    },
    {
      "cell_type": "code",
      "source": [
        "path = Path('post')\n",
        "path.mkdir(parents=True, exist_ok=True)\n",
        "\n"
      ],
      "metadata": {
        "id": "SUPWmkxLKvJa"
      },
      "execution_count": 5,
      "outputs": []
    },
    {
      "cell_type": "code",
      "source": [
        "\n",
        "import requests\n",
        "from bs4 import BeautifulSoup\n",
        "\n",
        "print(\"Enter skills that you are not familiar: \")\n",
        "\n",
        "unfimiliar_skill = input(\">\")\n",
        "print(f\"The skills that you are not familiar: {unfimiliar_skill}\")\n",
        "\n",
        "html_text = requests.get(\"https://www.timesjobs.com/candidate/job-search.html?searchType=personalizedSearch&from=submit&txtKeywords=python&txtLocation=\").text\n",
        "soup = BeautifulSoup(html_text, 'lxml')\n",
        "jobs = soup.find_all('li', class_ = 'clearfix job-bx wht-shd-bx')\n",
        "for index, job in enumerate(jobs):\n",
        "  publish_date = job.find('span', class_ = 'sim-posted').span.text\n",
        "  if 'few' in publish_date:\n",
        "\n",
        "    Company_name = job.find('h3', class_ = 'joblist-comp-name').text\n",
        "    skills = job.find('span', class_ = 'srp-skills').text.replace(' ', '')\n",
        "    publish_date = job.find('span', class_ = 'sim-posted').span.text\n",
        "    more_info = job.header.h2.a['href']\n",
        "    if unfimiliar_skill not in skills:\n",
        "      with open(f'post/{index}.txt', 'w') as f:\n",
        "        f.write(f\"Company name: {Company_name.strip()} \\n\")\n",
        "        f.write(f\"Skills: {skills.strip()} \\n\")\n",
        "        f.write(f\"More info: {more_info}\")\n",
        "\n",
        "      print(f'File saved: {index}')\n",
        "\n",
        "\n"
      ],
      "metadata": {
        "id": "V2UEJLfqy1ON",
        "colab": {
          "base_uri": "https://localhost:8080/"
        },
        "outputId": "edb462ab-5e47-4057-8283-15f6a15d1f3b"
      },
      "execution_count": 7,
      "outputs": [
        {
          "output_type": "stream",
          "name": "stdout",
          "text": [
            "Enter skills that you are not familiar: \n",
            ">sql\n",
            "The skills that you are not familiar: sql\n",
            "File saved: 1\n",
            "File saved: 2\n",
            "File saved: 5\n",
            "File saved: 6\n",
            "File saved: 9\n",
            "File saved: 13\n",
            "File saved: 15\n",
            "File saved: 22\n"
          ]
        }
      ]
    },
    {
      "cell_type": "code",
      "source": [],
      "metadata": {
        "id": "HXTMWj2vuVvx"
      },
      "execution_count": null,
      "outputs": []
    }
  ]
}